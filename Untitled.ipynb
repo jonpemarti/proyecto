{
 "cells": [
  {
   "cell_type": "code",
   "execution_count": null,
   "id": "27de2ed0",
   "metadata": {},
   "outputs": [],
   "source": []
  },
  {
   "cell_type": "code",
   "execution_count": null,
   "id": "390c192e",
   "metadata": {},
   "outputs": [],
   "source": [
    "sleep_project3.reset_index(inplace=True)"
   ]
  },
  {
   "cell_type": "code",
   "execution_count": null,
   "id": "3727eaa1",
   "metadata": {},
   "outputs": [],
   "source": [
    "def convertir_a_coma(valor):\n",
    "    if isinstance(valor, float):\n",
    "        return str(valor).replace('.', ',')\n",
    "    else:\n",
    "        return valor\n",
    "\n",
    "# Aplicar la función a todas las celdas del DataFrame\n",
    "sleep_project3 = sleep_project2.applymap(convertir_a_coma)"
   ]
  },
  {
   "cell_type": "code",
   "execution_count": null,
   "id": "0f31840d",
   "metadata": {},
   "outputs": [],
   "source": [
    "sleep_project3"
   ]
  },
  {
   "cell_type": "code",
   "execution_count": null,
   "id": "33128e85",
   "metadata": {},
   "outputs": [],
   "source": [
    "import pandas as pd\n",
    "\n",
    "# Supongamos que tienes un DataFrame llamado 'df'\n",
    "# Aquí exportamos el DataFrame como un archivo CSV llamado 'data.csv'\n",
    "sleep_project3.to_csv('sleep_project3.csv', sep= ';', index=False)"
   ]
  },
  {
   "cell_type": "code",
   "execution_count": null,
   "id": "1dc4cb3a",
   "metadata": {},
   "outputs": [],
   "source": [
    "gb_eff.reset_index(inplace=True)"
   ]
  },
  {
   "cell_type": "code",
   "execution_count": null,
   "id": "c1d7796b",
   "metadata": {},
   "outputs": [],
   "source": [
    "def convertir_a_coma(valor):\n",
    "    if isinstance(valor, float):\n",
    "        return str(valor).replace('.', ',')\n",
    "    else:\n",
    "        return valor\n",
    "\n",
    "# Aplicar la función a todas las celdas del DataFrame\n",
    "gb_eff = gb_eff.applymap(convertir_a_coma)"
   ]
  },
  {
   "cell_type": "code",
   "execution_count": null,
   "id": "966fbef5",
   "metadata": {},
   "outputs": [],
   "source": [
    "gb_eff"
   ]
  },
  {
   "cell_type": "code",
   "execution_count": null,
   "id": "af11c18b",
   "metadata": {},
   "outputs": [],
   "source": [
    "gb_eff.to_csv('gb_eff.csv', sep=\";\", index=False)"
   ]
  },
  {
   "cell_type": "code",
   "execution_count": null,
   "id": "7c4b6568",
   "metadata": {},
   "outputs": [],
   "source": [
    "gb_dur.reset_index(inplace=True)"
   ]
  },
  {
   "cell_type": "code",
   "execution_count": null,
   "id": "7fef530f",
   "metadata": {},
   "outputs": [],
   "source": [
    "def convertir_a_coma(valor):\n",
    "    if isinstance(valor, float):\n",
    "        return str(valor).replace('.', ',')\n",
    "    else:\n",
    "        return valor\n",
    "\n",
    "# Aplicar la función a todas las celdas del DataFrame\n",
    "gb_dur = gb_dur.applymap(convertir_a_coma)"
   ]
  },
  {
   "cell_type": "code",
   "execution_count": null,
   "id": "cad8b118",
   "metadata": {},
   "outputs": [],
   "source": [
    "gb_dur\n",
    "\n",
    "gb_dur.to_csv('gb_dur.csv', sep=\";\", index=False)\n"
   ]
  },
  {
   "cell_type": "code",
   "execution_count": null,
   "id": "00dbfa31",
   "metadata": {},
   "outputs": [],
   "source": [
    "gb_gender.reser\n",
    "\n",
    "gb_gender.to_csv('gb_gender.csv', index=False)\n",
    "\n",
    "gb_age.to_csv('gb_age.csv', index=False)\n",
    "\n",
    "gb_occup.to_csv('gb_occup.csv', index=False)\n",
    "\n",
    "gb_bmi.to_csv('gb_bmi.csv', index=False)\n",
    "\n",
    "gb_disorder.to_csv('gb_disorder.csv', index=False)"
   ]
  }
 ],
 "metadata": {
  "kernelspec": {
   "display_name": "Python 3 (ipykernel)",
   "language": "python",
   "name": "python3"
  },
  "language_info": {
   "codemirror_mode": {
    "name": "ipython",
    "version": 3
   },
   "file_extension": ".py",
   "mimetype": "text/x-python",
   "name": "python",
   "nbconvert_exporter": "python",
   "pygments_lexer": "ipython3",
   "version": "3.11.5"
  }
 },
 "nbformat": 4,
 "nbformat_minor": 5
}
